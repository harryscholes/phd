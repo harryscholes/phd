{
 "cells": [
  {
   "cell_type": "markdown",
   "metadata": {},
   "source": [
    "# Plot CV results for thesis"
   ]
  },
  {
   "cell_type": "code",
   "execution_count": 2,
   "metadata": {},
   "outputs": [],
   "source": [
    "%load_ext autoreload\n",
    "%autoreload 2\n",
    "import os\n",
    "import sys\n",
    "import numpy as np\n",
    "import pandas as pd\n",
    "import networkx as nx\n",
    "import matplotlib.pyplot as plt\n",
    "import seaborn as sns\n",
    "%matplotlib inline\n",
    "sns.set(context='paper', style='ticks', font_scale=1)\n",
    "\n",
    "from agape import *\n",
    "repo, data = os.environ[\"POMBAGE\"], os.environ[\"POMBAGEDATA\"]\n",
    "sys.path.append(repo)\n",
    "from src import *"
   ]
  },
  {
   "cell_type": "code",
   "execution_count": 3,
   "metadata": {},
   "outputs": [],
   "source": [
    "import json\n",
    "from glob import glob\n",
    "from collections import defaultdict\n",
    "from agape.deepNF.performance import my_CV"
   ]
  },
  {
   "cell_type": "code",
   "execution_count": 95,
   "metadata": {},
   "outputs": [],
   "source": [
    "def mean(d):\n",
    "    return np.mean(list(d.values()))\n",
    "\n",
    "def std(d):\n",
    "    return np.std(list(d.values()))\n",
    "\n",
    "def load_performance(path, level):\n",
    "    path = f'{path}*level{level}'\n",
    "    files = glob(os.path.join(os.path.expandvars('$CEREVISIAEDATA'), 'deepNF', 'results', f'{path}*.json'))\n",
    "    files.sort(key=lambda x: len(x.split('/')[-1].split('-')))\n",
    "    d = defaultdict(dict)\n",
    "\n",
    "    for f in files:\n",
    "        name = os.path.basename(f).split('_')\n",
    "        arch = int(name[6].replace('deepNF-SVM-trial-', ''))\n",
    "        with open(f, 'rb') as f:\n",
    "            f = json.load(f)\n",
    "            for measure, label in zip(('pr_macro', 'pr_micro', 'acc', 'fmax'),\n",
    "                                      ('M_AUPR', 'm_AUPR', 'accuracy', 'f1')):\n",
    "                d[arch][label+'_mean'] = np.mean(f[measure])\n",
    "                d[arch][label+'_std'] = np.std(f[measure])\n",
    "    return pd.DataFrame(d).T.sort_index()\n",
    "\n",
    "measures = ('M_AUPR', 'm_AUPR', 'accuracy', 'f1')\n",
    "\n",
    "def setup_axes(rows, columns, figsize):\n",
    "    fig, axes = plt.subplots(rows, columns, figsize=figsize)\n",
    "    axes = axes.ravel()\n",
    "    return fig, axes\n",
    "\n",
    "def format_axes():\n",
    "    global measure\n",
    "    if measure == 'accuracy':\n",
    "        measure = measure.capitalize()\n",
    "    if measure in ('M_AUPR', 'm_AUPR'):\n",
    "        measure = measure.replace('_', ' ')\n",
    "\n",
    "    ax.set_ylabel(measure)\n",
    "    ax.set_ylim(0, 1)\n",
    "    \n",
    "    for tick in ax.get_xticklabels():\n",
    "        tick.set_size(7)\n",
    "\n",
    "    fig.tight_layout()\n",
    "    \n",
    "def plot_cv_compared_to_deepNF(d, fname=None):\n",
    "    fig, axes = setup_axes(1, 4, (6,2))\n",
    "\n",
    "    for measure, ax in zip(measures, axes):\n",
    "        xs = my_CV[\"level1\"][measure]\n",
    "        ax.bar(0, np.mean(xs), yerr=np.std(xs), fill=True, color=\".5\")\n",
    "        \n",
    "        xticks = [\"deepNF\"]\n",
    "        \n",
    "        for i, label in enumerate(d):\n",
    "            df = d[label]\n",
    "            xs = df[f\"{measure}_mean\"]\n",
    "            ax.bar(i+1, np.mean(xs), yerr=np.std(xs), fill=True, color=\".75\")\n",
    "            xticks.append(label)\n",
    "\n",
    "        ax.set_xticks(range(len(d)+1))\n",
    "        ax.set_xticklabels(xticks, rotation=45)\n",
    "\n",
    "        if measure == 'accuracy':\n",
    "            measure = measure.capitalize()\n",
    "        if measure in ('M_AUPR', 'm_AUPR'):\n",
    "            measure = measure.replace('_', ' ')\n",
    "\n",
    "        ax.set_ylabel(measure)\n",
    "        ax.set_ylim(0, 1)\n",
    "\n",
    "        for tick in ax.get_xticklabels():\n",
    "            tick.set_size(7)\n",
    "\n",
    "    fig.tight_layout()\n",
    "    \n",
    "    if fname:\n",
    "        fig.savefig(fname)\n",
    "        \n",
    "def plot_cv_mlp(d, fname=None):\n",
    "    fig, axes = setup_axes(1, 4, (6,2))\n",
    "\n",
    "    for measure, ax in zip(measures, axes):\n",
    "        xs = my_CV[\"level1\"][measure]\n",
    "        ax.bar(0, np.mean(xs), yerr=np.std(xs), fill=True, color=\".5\")\n",
    "        xticks = [\"deepNF\"]\n",
    "        for i, (k, v) in enumerate(d.items()):\n",
    "            xs = v[measure]\n",
    "            ax.bar(i+1, mean(xs), yerr=std(xs), fill=True, color=\".75\")\n",
    "            xticks.append(k)\n",
    "\n",
    "        ax.set_xticks(range(len(d)+1))\n",
    "        ax.set_xticklabels(xticks, rotation=45)\n",
    "        \n",
    "        if measure == 'accuracy':\n",
    "            measure = measure.capitalize()\n",
    "        if measure in ('M_AUPR', 'm_AUPR'):\n",
    "            measure = measure.replace('_', ' ')\n",
    "\n",
    "        ax.set_ylabel(measure)\n",
    "        ax.set_ylim(0, 1)\n",
    "\n",
    "        for tick in ax.get_xticklabels():\n",
    "            tick.set_size(7)\n",
    "\n",
    "    fig.tight_layout()\n",
    "    \n",
    "    if fname:\n",
    "        fig.savefig(fname)"
   ]
  },
  {
   "cell_type": "markdown",
   "metadata": {},
   "source": [
    "Recreate deepNF performance"
   ]
  },
  {
   "cell_type": "code",
   "execution_count": 96,
   "metadata": {},
   "outputs": [
    {
     "data": {
      "image/png": "[encoded data removed]",
      "text/plain": [
       "<Figure size 432x144 with 4 Axes>"
      ]
     },
     "metadata": {
      "needs_background": "light"
     },
     "output_type": "display_data"
    }
   ],
   "source": [
    "fig, axes = setup_axes(1, 4, (6,2))\n",
    "\n",
    "for level in range(1,4):\n",
    "    df = load_performance('180807_cd5dd8d/', level)\n",
    "    \n",
    "    for measure, ax in zip(measures, axes):\n",
    "        xs = df[f\"{measure}_mean\"]\n",
    "        ax.bar(level, np.mean(xs), yerr=np.std(xs), fill=True, color=\".75\")\n",
    "        ax.set_xlabel('Level')\n",
    "        format_axes()\n",
    "        \n",
    "fig.savefig(\"classification/cv_cerevisiae_level1_MDA-2000-600-all-sigmoid-sgd.pdf\")"
   ]
  },
  {
   "cell_type": "markdown",
   "metadata": {},
   "source": [
    "Best practice"
   ]
  },
  {
   "cell_type": "code",
   "execution_count": 97,
   "metadata": {},
   "outputs": [
    {
     "data": {
      "image/png": "[encoded data removed]",
      "text/plain": [
       "<Figure size 432x144 with 4 Axes>"
      ]
     },
     "metadata": {
      "needs_background": "light"
     },
     "output_type": "display_data"
    }
   ],
   "source": [
    "df = load_performance('180808_cd5dd8d/ReLU/', 1)\n",
    "\n",
    "d = {\"Best practice\": df}\n",
    "\n",
    "plot_cv_compared_to_deepNF(d, \"classification/cv_cerevisiae_level1_MDA-2000-600-best-practice.pdf\")"
   ]
  },
  {
   "cell_type": "markdown",
   "metadata": {},
   "source": [
    "Compare sigmoid activation function"
   ]
  },
  {
   "cell_type": "code",
   "execution_count": 98,
   "metadata": {},
   "outputs": [
    {
     "data": {
      "image/png": "[encoded data removed]",
      "text/plain": [
       "<Figure size 432x144 with 4 Axes>"
      ]
     },
     "metadata": {
      "needs_background": "light"
     },
     "output_type": "display_data"
    }
   ],
   "source": [
    "df_all_sigmoid = load_performance(\"180808_cd5dd8d/all-sigmoid/\", 1)\n",
    "df_encoding_sigmoid = load_performance(\"180808_cd5dd8d/sigmoid/\", 1)\n",
    "\n",
    "d = {\"All\": df_all_sigmoid, \"Encoding\": df_encoding_sigmoid}\n",
    "\n",
    "plot_cv_compared_to_deepNF(d, \"classification/cv_cerevisiae_level1_MDA-2000-600-activation-functions.pdf\")"
   ]
  },
  {
   "cell_type": "markdown",
   "metadata": {},
   "source": [
    "Compare optimizers"
   ]
  },
  {
   "cell_type": "code",
   "execution_count": 99,
   "metadata": {},
   "outputs": [
    {
     "data": {
      "image/png": "[encoded data removed]",
      "text/plain": [
       "<Figure size 432x144 with 4 Axes>"
      ]
     },
     "metadata": {
      "needs_background": "light"
     },
     "output_type": "display_data"
    }
   ],
   "source": [
    "df_adam = load_performance(\"180808_cd5dd8d/all-sigmoid/\", 1)\n",
    "df_sgd = load_performance(\"180808_cd5dd8d/all-sigmoid-sgd/\", 1)\n",
    "\n",
    "d = {\"Adam\": df_adam, \"SGD\": df_sgd}\n",
    "\n",
    "plot_cv_compared_to_deepNF(d, \"classification/cv_cerevisiae_level1_MDA-2000-600-optimizers.pdf\")"
   ]
  },
  {
   "cell_type": "markdown",
   "metadata": {},
   "source": [
    "Low-dimensional embeddings"
   ]
  },
  {
   "cell_type": "code",
   "execution_count": 100,
   "metadata": {},
   "outputs": [
    {
     "data": {
      "image/png": "[encoded data removed]",
      "text/plain": [
       "<Figure size 432x144 with 4 Axes>"
      ]
     },
     "metadata": {
      "needs_background": "light"
     },
     "output_type": "display_data"
    }
   ],
   "source": [
    "df = load_performance('180808_cd5dd8d/MDA-256-256/', 1)\n",
    "\n",
    "d = {\"MDA\\n256-256\": df}\n",
    "\n",
    "plot_cv_compared_to_deepNF(d, \"classification/cv_cerevisiae_level1_MDA-256-256-ReLU-deepNF-SVM.pdf\")"
   ]
  },
  {
   "cell_type": "markdown",
   "metadata": {},
   "source": [
    "## MLP"
   ]
  },
  {
   "cell_type": "markdown",
   "metadata": {},
   "source": [
    "Dropout"
   ]
  },
  {
   "cell_type": "code",
   "execution_count": 81,
   "metadata": {},
   "outputs": [],
   "source": []
  },
  {
   "cell_type": "code",
   "execution_count": 101,
   "metadata": {},
   "outputs": [
    {
     "data": {
      "image/png": "[encoded data removed]",
      "text/plain": [
       "<Figure size 432x144 with 4 Axes>"
      ]
     },
     "metadata": {
      "needs_background": "light"
     },
     "output_type": "display_data"
    }
   ],
   "source": [
    "path = os.path.join(os.path.expandvars('$CEREVISIAEDATA'), 'deepNF', 'results', \"180801_484f026\", \"all\")\n",
    "d = {}\n",
    "\n",
    "for k, v in {\"0.0\": \"\", \"0.25\": \"-dropout-0.25\", \"0.5\": \"-dropout-0.5\"}.items():\n",
    "    with open(os.path.join(path, f\"cerevisiae_MDA_arch_256-256-ReLU_level1_512-256{v}.json\"), 'rb') as f:\n",
    "        d[k] = json.load(f)\n",
    "        \n",
    "plot_cv_mlp(d, \"mlp/cv_cerevisiae_level1_MDA-256-256-ReLU_MLP.pdf\")"
   ]
  },
  {
   "cell_type": "markdown",
   "metadata": {},
   "source": [
    "Batch size"
   ]
  },
  {
   "cell_type": "code",
   "execution_count": 102,
   "metadata": {},
   "outputs": [
    {
     "data": {
      "image/png": "[encoded data removed]",
      "text/plain": [
       "<Figure size 432x144 with 4 Axes>"
      ]
     },
     "metadata": {
      "needs_background": "light"
     },
     "output_type": "display_data"
    }
   ],
   "source": [
    "path = os.path.join(os.path.expandvars('$CEREVISIAEDATA'), 'deepNF', 'results', \"180802_b04968a\")\n",
    "d = {}\n",
    "\n",
    "for k in [64, 128, 256, 512, 1024]:\n",
    "    with open(os.path.join(path, f\"cerevisiae_MDA_arch_256-256-ReLU_level1_512-256-dropout-0.5-bs-{bs}.json\")) as f:\n",
    "        d[k] = json.load(f)\n",
    "        \n",
    "plot_cv_mlp(d, \"mlp/cv_cerevisiae_level1_MDA-256-256-ReLU_MLP_batch-size.pdf\")"
   ]
  },
  {
   "cell_type": "markdown",
   "metadata": {},
   "source": [
    "No RWR PPMI"
   ]
  },
  {
   "cell_type": "code",
   "execution_count": 105,
   "metadata": {},
   "outputs": [
    {
     "data": {
      "image/png": "[encoded data removed]",
      "text/plain": [
       "<Figure size 432x144 with 4 Axes>"
      ]
     },
     "metadata": {
      "needs_background": "light"
     },
     "output_type": "display_data"
    }
   ],
   "source": [
    "path = os.path.join(os.path.expandvars('$CEREVISIAEDATA'), 'deepNF', 'results', \"180814_1656b08\")\n",
    "\n",
    "with open(os.path.join(path, f\"cerevisiae_MDA_arch_512-256_level1_no-RWR-PPMI-MDA-512-256-MLP-512-256-dropout-0.5.json\")) as f:\n",
    "    d = json.load(f)\n",
    "\n",
    "fig, axes = setup_axes(1, 4, (6,2))\n",
    "\n",
    "for measure, ax in zip(measures, axes):\n",
    "    xs = my_CV[\"level1\"][measure]\n",
    "    ax.bar(0, np.mean(xs), yerr=np.std(xs), fill=True, color=\".5\")\n",
    "\n",
    "    xs = []\n",
    "    for i in range(1,11):\n",
    "        ys = d[f\"repeat_{i}\"][measure]\n",
    "        xs.append(mean(ys))\n",
    "    ax.bar(1, np.mean(xs), yerr=np.std(xs), fill=True, color=\".75\")\n",
    "    \n",
    "    ax.set_xticks(range(2))\n",
    "    ax.set_xticklabels([\"deepNF\", \"No RWR,\\nPPMI\"], rotation=45)\n",
    "    format_axes()\n",
    "\n",
    "fig.savefig(\"mlp/cv_cerevisiae_level1_no_RWR_PPMI.pdf\")"
   ]
  },
  {
   "cell_type": "markdown",
   "metadata": {},
   "source": [
    "Structured prediction"
   ]
  },
  {
   "cell_type": "code",
   "execution_count": 106,
   "metadata": {},
   "outputs": [
    {
     "data": {
      "image/png": "[encoded data removed]",
      "text/plain": [
       "<Figure size 432x144 with 4 Axes>"
      ]
     },
     "metadata": {
      "needs_background": "light"
     },
     "output_type": "display_data"
    }
   ],
   "source": [
    "path = os.path.join(os.path.expandvars('$CEREVISIAEDATA'), 'deepNF', 'results', \"180809_6ad0f08\")\n",
    "\n",
    "fig, axes = setup_axes(1, 4, (6,2))\n",
    "\n",
    "for measure, ax in zip(measures, axes):\n",
    "    xs = my_CV[\"level1\"][measure]\n",
    "    ax.bar(0, np.mean(xs), yerr=np.std(xs), fill=True, color=\".5\")\n",
    "\n",
    "    xs = []\n",
    "    for i in range(1,11):\n",
    "        with open(os.path.join(path, f\"cerevisiae_MDA_arch_256-256_level1_MLP-512-256-dropout-0.5-trial-{i}.json\")) as f:\n",
    "            d = json.load(f)\n",
    "        ys = d[measure]\n",
    "        xs.append(mean(ys))\n",
    "    ax.bar(1, np.mean(xs), yerr=np.std(xs), fill=True, color=\".75\")\n",
    "\n",
    "    ax.set_xticks(range(2))\n",
    "    ax.set_xticklabels([\"deepNF\", \"Structured\\npredicton\"], rotation=45)\n",
    "    format_axes()\n",
    "\n",
    "fig.savefig(\"mlp/cv_cerevisiae_level1_MDA-256-256-MLP-512-256.pdf\")"
   ]
  },
  {
   "cell_type": "markdown",
   "metadata": {},
   "source": [
    "Structured prediction all at once"
   ]
  },
  {
   "cell_type": "code",
   "execution_count": 107,
   "metadata": {},
   "outputs": [
    {
     "data": {
      "image/png": "[encoded data removed]",
      "text/plain": [
       "<Figure size 432x144 with 4 Axes>"
      ]
     },
     "metadata": {
      "needs_background": "light"
     },
     "output_type": "display_data"
    }
   ],
   "source": [
    "path = os.path.join(os.path.expandvars('$CEREVISIAEDATA'), 'deepNF', 'results', \"180806_2b33e72\")\n",
    "\n",
    "with open(os.path.join(path, f\"cerevisiae_MDA_arch_256-256_all_512-256-dropout-0.5.json\")) as f:\n",
    "    d = json.load(f)\n",
    "    \n",
    "fig, axes = setup_axes(1, 4, (6,2))\n",
    "\n",
    "for measure, ax in zip(measures, axes):\n",
    "    for i in range(1,4):\n",
    "        xs = my_CV[f\"level{i}\"][measure]\n",
    "        ax.bar(i-1, np.mean(xs), yerr=np.std(xs), fill=True, color=\".5\")\n",
    "\n",
    "    xs = d[measure]\n",
    "    ax.bar(3, mean(xs), yerr=std(xs), fill=True, color=\".75\")\n",
    "\n",
    "    ax.set_xticks(range(4))\n",
    "    ax.set_xticklabels([\"Level 1\", \"Level 2\", \"Level 3\", \"Structured\\npredicton\"], rotation=45)\n",
    "    format_axes()\n",
    "\n",
    "fig.savefig(\"mlp/cv_cerevisiae_all_MLP-512-256.pdf\")"
   ]
  },
  {
   "cell_type": "code",
   "execution_count": null,
   "metadata": {},
   "outputs": [],
   "source": []
  }
 ],
 "metadata": {
  "kernelspec": {
   "display_name": "Python 3",
   "language": "python",
   "name": "python3"
  },
  "language_info": {
   "codemirror_mode": {
    "name": "ipython",
    "version": 3
   },
   "file_extension": ".py",
   "mimetype": "text/x-python",
   "name": "python",
   "nbconvert_exporter": "python",
   "pygments_lexer": "ipython3",
   "version": "3.7.1"
  }
 },
 "nbformat": 4,
 "nbformat_minor": 2
}
